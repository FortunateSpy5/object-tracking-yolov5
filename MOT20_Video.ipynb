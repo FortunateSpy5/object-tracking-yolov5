{
 "cells": [
  {
   "cell_type": "markdown",
   "metadata": {},
   "source": [
    "# MOT-20 Dataset Configuration"
   ]
  },
  {
   "cell_type": "code",
   "execution_count": null,
   "metadata": {},
   "outputs": [],
   "source": [
    "import cv2\n",
    "import glob\n",
    "from tqdm import tqdm"
   ]
  },
  {
   "cell_type": "code",
   "execution_count": null,
   "metadata": {},
   "outputs": [],
   "source": [
    "def create_video(source_path, file_path, fps=25):\n",
    "    \"\"\"\n",
    "    Create a video from a list of images.\n",
    "    \"\"\"\n",
    "    img_array = []\n",
    "    for filename in tqdm(glob.glob(source_path)):\n",
    "        img = cv2.imread(filename)\n",
    "        height, width, _ = img.shape\n",
    "        size = (width, height)\n",
    "        img_array.append(img)\n",
    "    \n",
    "    out = cv2.VideoWriter(file_path, cv2.VideoWriter_fourcc(*'DIVX'), fps, size)\n",
    "\n",
    "    for i in range(len(img_array)):\n",
    "        out.write(img_array[i])\n",
    "    \n",
    "    out.release()"
   ]
  },
  {
   "cell_type": "code",
   "execution_count": null,
   "metadata": {},
   "outputs": [],
   "source": [
    "create_video('datasets/MOT20/train/MOT20-01/img1/*.jpg', 'documents/MOT20-01.avi')"
   ]
  },
  {
   "cell_type": "code",
   "execution_count": null,
   "metadata": {},
   "outputs": [],
   "source": [
    "create_video('datasets/MOT20/train/MOT20-02/img1/*.jpg', 'documents/MOT20-02.avi')"
   ]
  },
  {
   "cell_type": "code",
   "execution_count": null,
   "metadata": {},
   "outputs": [],
   "source": [
    "create_video('datasets/MOT20/train/MOT20-03/img1/*.jpg', 'documents/MOT20-03.avi')"
   ]
  },
  {
   "cell_type": "code",
   "execution_count": null,
   "metadata": {},
   "outputs": [],
   "source": [
    "create_video('datasets/MOT20/train/MOT20-05/img1/*.jpg', 'documents/MOT20-05.avi')"
   ]
  },
  {
   "cell_type": "code",
   "execution_count": null,
   "metadata": {},
   "outputs": [],
   "source": [
    "create_video('datasets/MOT20/test/MOT20-04/img1/*.jpg', 'documents/MOT20-04.avi')"
   ]
  },
  {
   "cell_type": "code",
   "execution_count": null,
   "metadata": {},
   "outputs": [],
   "source": [
    "create_video('datasets/MOT20/test/MOT20-06/img1/*.jpg', 'documents/MOT20-06.avi')"
   ]
  },
  {
   "cell_type": "code",
   "execution_count": null,
   "metadata": {},
   "outputs": [],
   "source": [
    "create_video('datasets/MOT20/test/MOT20-07/img1/*.jpg', 'documents/MOT20-07.avi')"
   ]
  },
  {
   "cell_type": "code",
   "execution_count": null,
   "metadata": {},
   "outputs": [],
   "source": [
    "create_video('datasets/MOT20/test/MOT20-08/img1/*.jpg', 'documents/MOT20-08.avi')"
   ]
  }
 ],
 "metadata": {
  "kernelspec": {
   "display_name": "Python 3.9.12 64-bit",
   "language": "python",
   "name": "python3"
  },
  "language_info": {
   "codemirror_mode": {
    "name": "ipython",
    "version": 3
   },
   "file_extension": ".py",
   "mimetype": "text/x-python",
   "name": "python",
   "nbconvert_exporter": "python",
   "pygments_lexer": "ipython3",
   "version": "3.9.12"
  },
  "orig_nbformat": 4,
  "vscode": {
   "interpreter": {
    "hash": "f05fa5f3d147c45ff393dc58dfdd6ed249791f1cb50020ac01b74bfaf02c64ad"
   }
  }
 },
 "nbformat": 4,
 "nbformat_minor": 2
}
