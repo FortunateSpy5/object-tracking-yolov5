{
 "cells": [
  {
   "cell_type": "code",
   "execution_count": 1,
   "metadata": {},
   "outputs": [],
   "source": [
    "import os\n",
    "import pandas as pd\n",
    "from tqdm import tqdm\n",
    "import random\n",
    "import shutil"
   ]
  },
  {
   "cell_type": "code",
   "execution_count": 2,
   "metadata": {},
   "outputs": [],
   "source": [
    "MOT20_PATH = 'datasets/MOT20'\n",
    "MOT20_YOLO_PATH = 'datasets/MOT20_YOLO'"
   ]
  },
  {
   "cell_type": "code",
   "execution_count": 3,
   "metadata": {},
   "outputs": [
    {
     "name": "stdout",
     "output_type": "stream",
     "text": [
      "['MOT20-01', 'MOT20-02', 'MOT20-03', 'MOT20-05']\n"
     ]
    }
   ],
   "source": [
    "train_folders = os.listdir(f\"{MOT20_PATH}/train\")\n",
    "print(train_folders)"
   ]
  },
  {
   "cell_type": "code",
   "execution_count": 4,
   "metadata": {},
   "outputs": [],
   "source": [
    "directories = [f\"{MOT20_YOLO_PATH}/images/train\", f\"{MOT20_YOLO_PATH}/images/val\", f\"{MOT20_YOLO_PATH}/labels/train\", f\"{MOT20_YOLO_PATH}/labels/val\"]"
   ]
  },
  {
   "cell_type": "code",
   "execution_count": 5,
   "metadata": {},
   "outputs": [],
   "source": [
    "for i in directories:\n",
    "    if not os.path.exists(i):\n",
    "        os.makedirs(i)"
   ]
  },
  {
   "cell_type": "code",
   "execution_count": 6,
   "metadata": {},
   "outputs": [],
   "source": [
    "GT_COLUMNS = ['Frame', 'ID', 'X', 'Y', 'W', 'H', 'Confidence', 'Class', 'Visibility']"
   ]
  },
  {
   "cell_type": "code",
   "execution_count": 7,
   "metadata": {},
   "outputs": [],
   "source": [
    "def extract_seq_info(directory):\n",
    "    with open(directory) as f:\n",
    "        lines = f.readlines()\n",
    "    lines = [line.strip() for line in lines]\n",
    "    lines = [line for line in lines if line]\n",
    "    lines = [line.split(\"=\") for line in lines if line.count(\"=\") == 1]\n",
    "    return {line[0]: line[1] for line in lines}"
   ]
  },
  {
   "cell_type": "code",
   "execution_count": 11,
   "metadata": {},
   "outputs": [
    {
     "name": "stderr",
     "output_type": "stream",
     "text": [
      "MOT20-01/img1: 100%|██████████| 429/429 [00:00<00:00, 844.61it/s]\n",
      "MOT20-02/img1: 100%|██████████| 2782/2782 [00:07<00:00, 353.46it/s]\n",
      "MOT20-03/img1: 100%|██████████| 2405/2405 [00:06<00:00, 385.35it/s]\n",
      "MOT20-05/img1: 100%|██████████| 3315/3315 [00:21<00:00, 155.55it/s]\n"
     ]
    }
   ],
   "source": [
    "data = {}\n",
    "for folder in train_folders:\n",
    "    gt = f\"{MOT20_PATH}/train/{folder}/gt\"\n",
    "    df = pd.read_csv(f\"{gt}/gt.txt\", sep=\",\", header=None, names=GT_COLUMNS)\n",
    "    images = os.listdir(f\"{MOT20_PATH}/train/{folder}/img1\")\n",
    "    # extract imWidth and imHeight from seqinfo.ini\n",
    "    seq = extract_seq_info(f\"{MOT20_PATH}/train/{folder}/seqinfo.ini\")\n",
    "    image_width = int(seq[\"imWidth\"])\n",
    "    image_length = int(seq[\"imHeight\"])\n",
    "    \n",
    "    df[\"X\"] = df[\"X\"].apply(lambda x: x / image_width)\n",
    "    df[\"Y\"] = df[\"Y\"].apply(lambda x: x / image_length)\n",
    "    df[\"W\"] = df[\"W\"].apply(lambda x: x / image_width)\n",
    "    df[\"H\"] = df[\"H\"].apply(lambda x: x / image_length)\n",
    "    \n",
    "    for image in tqdm(images, desc=f\"{folder}/img1\"):\n",
    "        frame = int(image.split(\".\")[0])\n",
    "        data[f\"{MOT20_PATH}/train/{folder}/img1/{image}\"] = df[(df[\"Frame\"] == frame) & ((df[\"Class\"] == 1) | (df[\"Class\"] == 7))]"
   ]
  },
  {
   "cell_type": "code",
   "execution_count": 12,
   "metadata": {},
   "outputs": [
    {
     "name": "stdout",
     "output_type": "stream",
     "text": [
      "Before shuffle: ['datasets/MOT20/train/MOT20-01/img1/000001.jpg', 'datasets/MOT20/train/MOT20-01/img1/000002.jpg', 'datasets/MOT20/train/MOT20-01/img1/000003.jpg', 'datasets/MOT20/train/MOT20-01/img1/000004.jpg', 'datasets/MOT20/train/MOT20-01/img1/000005.jpg']\n",
      "After shuffle: ['datasets/MOT20/train/MOT20-02/img1/000396.jpg', 'datasets/MOT20/train/MOT20-03/img1/000298.jpg', 'datasets/MOT20/train/MOT20-03/img1/002080.jpg', 'datasets/MOT20/train/MOT20-03/img1/001702.jpg', 'datasets/MOT20/train/MOT20-02/img1/002040.jpg']\n"
     ]
    }
   ],
   "source": [
    "keys = list(data.keys())\n",
    "print(f\"Before shuffle: {keys[:5]}\")\n",
    "random.Random(42).shuffle(keys)\n",
    "print(f\"After shuffle: {keys[:5]}\")"
   ]
  },
  {
   "cell_type": "code",
   "execution_count": 13,
   "metadata": {},
   "outputs": [],
   "source": [
    "example_image = keys[0]\n",
    "df = data[example_image]"
   ]
  },
  {
   "cell_type": "code",
   "execution_count": 14,
   "metadata": {},
   "outputs": [
    {
     "data": {
      "text/html": [
       "<div>\n",
       "<style scoped>\n",
       "    .dataframe tbody tr th:only-of-type {\n",
       "        vertical-align: middle;\n",
       "    }\n",
       "\n",
       "    .dataframe tbody tr th {\n",
       "        vertical-align: top;\n",
       "    }\n",
       "\n",
       "    .dataframe thead th {\n",
       "        text-align: right;\n",
       "    }\n",
       "</style>\n",
       "<table border=\"1\" class=\"dataframe\">\n",
       "  <thead>\n",
       "    <tr style=\"text-align: right;\">\n",
       "      <th></th>\n",
       "      <th>Frame</th>\n",
       "      <th>ID</th>\n",
       "      <th>X</th>\n",
       "      <th>Y</th>\n",
       "      <th>W</th>\n",
       "      <th>H</th>\n",
       "      <th>Confidence</th>\n",
       "      <th>Class</th>\n",
       "      <th>Visibility</th>\n",
       "    </tr>\n",
       "  </thead>\n",
       "  <tbody>\n",
       "    <tr>\n",
       "      <th>count</th>\n",
       "      <td>46.0</td>\n",
       "      <td>46.000000</td>\n",
       "      <td>46.000000</td>\n",
       "      <td>46.000000</td>\n",
       "      <td>46.000000</td>\n",
       "      <td>46.000000</td>\n",
       "      <td>46.000000</td>\n",
       "      <td>46.000000</td>\n",
       "      <td>46.000000</td>\n",
       "    </tr>\n",
       "    <tr>\n",
       "      <th>mean</th>\n",
       "      <td>396.0</td>\n",
       "      <td>221.108696</td>\n",
       "      <td>0.438836</td>\n",
       "      <td>0.300483</td>\n",
       "      <td>0.040851</td>\n",
       "      <td>0.163587</td>\n",
       "      <td>0.913043</td>\n",
       "      <td>1.521739</td>\n",
       "      <td>0.491526</td>\n",
       "    </tr>\n",
       "    <tr>\n",
       "      <th>std</th>\n",
       "      <td>0.0</td>\n",
       "      <td>49.514186</td>\n",
       "      <td>0.218062</td>\n",
       "      <td>0.199689</td>\n",
       "      <td>0.017750</td>\n",
       "      <td>0.065295</td>\n",
       "      <td>0.284885</td>\n",
       "      <td>1.709310</td>\n",
       "      <td>0.377545</td>\n",
       "    </tr>\n",
       "    <tr>\n",
       "      <th>min</th>\n",
       "      <td>396.0</td>\n",
       "      <td>7.000000</td>\n",
       "      <td>0.000521</td>\n",
       "      <td>0.075926</td>\n",
       "      <td>0.021875</td>\n",
       "      <td>0.076852</td>\n",
       "      <td>0.000000</td>\n",
       "      <td>1.000000</td>\n",
       "      <td>0.000000</td>\n",
       "    </tr>\n",
       "    <tr>\n",
       "      <th>25%</th>\n",
       "      <td>396.0</td>\n",
       "      <td>205.250000</td>\n",
       "      <td>0.344010</td>\n",
       "      <td>0.169676</td>\n",
       "      <td>0.028516</td>\n",
       "      <td>0.118981</td>\n",
       "      <td>1.000000</td>\n",
       "      <td>1.000000</td>\n",
       "      <td>0.096947</td>\n",
       "    </tr>\n",
       "    <tr>\n",
       "      <th>50%</th>\n",
       "      <td>396.0</td>\n",
       "      <td>232.500000</td>\n",
       "      <td>0.440104</td>\n",
       "      <td>0.239352</td>\n",
       "      <td>0.034115</td>\n",
       "      <td>0.144907</td>\n",
       "      <td>1.000000</td>\n",
       "      <td>1.000000</td>\n",
       "      <td>0.530845</td>\n",
       "    </tr>\n",
       "    <tr>\n",
       "      <th>75%</th>\n",
       "      <td>396.0</td>\n",
       "      <td>251.750000</td>\n",
       "      <td>0.570182</td>\n",
       "      <td>0.354167</td>\n",
       "      <td>0.045573</td>\n",
       "      <td>0.187731</td>\n",
       "      <td>1.000000</td>\n",
       "      <td>1.000000</td>\n",
       "      <td>0.859040</td>\n",
       "    </tr>\n",
       "    <tr>\n",
       "      <th>max</th>\n",
       "      <td>396.0</td>\n",
       "      <td>295.000000</td>\n",
       "      <td>0.872396</td>\n",
       "      <td>0.856481</td>\n",
       "      <td>0.098958</td>\n",
       "      <td>0.324074</td>\n",
       "      <td>1.000000</td>\n",
       "      <td>7.000000</td>\n",
       "      <td>1.000000</td>\n",
       "    </tr>\n",
       "  </tbody>\n",
       "</table>\n",
       "</div>"
      ],
      "text/plain": [
       "       Frame          ID          X          Y          W          H  \\\n",
       "count   46.0   46.000000  46.000000  46.000000  46.000000  46.000000   \n",
       "mean   396.0  221.108696   0.438836   0.300483   0.040851   0.163587   \n",
       "std      0.0   49.514186   0.218062   0.199689   0.017750   0.065295   \n",
       "min    396.0    7.000000   0.000521   0.075926   0.021875   0.076852   \n",
       "25%    396.0  205.250000   0.344010   0.169676   0.028516   0.118981   \n",
       "50%    396.0  232.500000   0.440104   0.239352   0.034115   0.144907   \n",
       "75%    396.0  251.750000   0.570182   0.354167   0.045573   0.187731   \n",
       "max    396.0  295.000000   0.872396   0.856481   0.098958   0.324074   \n",
       "\n",
       "       Confidence      Class  Visibility  \n",
       "count   46.000000  46.000000   46.000000  \n",
       "mean     0.913043   1.521739    0.491526  \n",
       "std      0.284885   1.709310    0.377545  \n",
       "min      0.000000   1.000000    0.000000  \n",
       "25%      1.000000   1.000000    0.096947  \n",
       "50%      1.000000   1.000000    0.530845  \n",
       "75%      1.000000   1.000000    0.859040  \n",
       "max      1.000000   7.000000    1.000000  "
      ]
     },
     "execution_count": 14,
     "metadata": {},
     "output_type": "execute_result"
    }
   ],
   "source": [
    "df.describe()"
   ]
  },
  {
   "cell_type": "code",
   "execution_count": 15,
   "metadata": {},
   "outputs": [],
   "source": [
    "TRAIN_VAL_SPLIT = 0.8"
   ]
  },
  {
   "cell_type": "code",
   "execution_count": 16,
   "metadata": {},
   "outputs": [
    {
     "name": "stderr",
     "output_type": "stream",
     "text": [
      "100%|██████████| 8931/8931 [00:39<00:00, 228.25it/s]\n"
     ]
    }
   ],
   "source": [
    "count = 0\n",
    "train_count = int(len(keys) * TRAIN_VAL_SPLIT)\n",
    "test_count = len(keys) - train_count\n",
    "\n",
    "for key in tqdm(keys):\n",
    "    count += 1\n",
    "    image_name = f\"{count:06}.jpg\"\n",
    "    if count <= train_count:\n",
    "        directory = \"train\"\n",
    "    else:\n",
    "        directory = \"val\"\n",
    "    shutil.copy(key, f\"{MOT20_YOLO_PATH}/images/{directory}/{image_name}\")\n",
    "    df = data[key]\n",
    "    output = \"\"\n",
    "    for row in df.itertuples():\n",
    "        x_center = row.X + row.W / 2\n",
    "        y_center = row.Y + row.H / 2\n",
    "        output += f\"{0} {x_center:6f} {y_center:6f} {row.W:6f} {row.H:6f}\\n\"\n",
    "    with open(f\"{MOT20_YOLO_PATH}/labels/{directory}/{image_name[:-4]}.txt\", \"w\") as f:\n",
    "        f.write(output)"
   ]
  }
 ],
 "metadata": {
  "kernelspec": {
   "display_name": "Python 3.9.12 ('object-detection')",
   "language": "python",
   "name": "python3"
  },
  "language_info": {
   "codemirror_mode": {
    "name": "ipython",
    "version": 3
   },
   "file_extension": ".py",
   "mimetype": "text/x-python",
   "name": "python",
   "nbconvert_exporter": "python",
   "pygments_lexer": "ipython3",
   "version": "3.9.12"
  },
  "orig_nbformat": 4,
  "vscode": {
   "interpreter": {
    "hash": "f05fa5f3d147c45ff393dc58dfdd6ed249791f1cb50020ac01b74bfaf02c64ad"
   }
  }
 },
 "nbformat": 4,
 "nbformat_minor": 2
}
