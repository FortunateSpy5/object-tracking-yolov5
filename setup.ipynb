{
 "cells": [
  {
   "cell_type": "markdown",
   "metadata": {},
   "source": [
    "# Setup"
   ]
  },
  {
   "cell_type": "markdown",
   "metadata": {},
   "source": [
    "### Install Requirements"
   ]
  },
  {
   "cell_type": "markdown",
   "metadata": {},
   "source": [
    "Create a new environment with ipykernel package installed and then install pytorch along with cudatoolkit.  \n",
    "`conda create -n python=3.9 ipykernel`  \n",
    "`conda install pytorch torchvision torchaudio cudatoolkit=11.3 -c pytorch`  "
   ]
  },
  {
   "cell_type": "code",
   "execution_count": 1,
   "metadata": {},
   "outputs": [
    {
     "name": "stdout",
     "output_type": "stream",
     "text": [
      "Collecting matplotlib>=3.2.2\n",
      "  Using cached matplotlib-3.5.2-cp39-cp39-win_amd64.whl (7.2 MB)\n",
      "Requirement already satisfied: numpy>=1.18.5 in c:\\users\\msoum\\anaconda3\\envs\\object-detection\\lib\\site-packages (from -r requirements.txt (line 2)) (1.22.3)\n",
      "Collecting opencv-python>=4.1.2\n",
      "  Using cached opencv_python-4.6.0.66-cp36-abi3-win_amd64.whl (35.6 MB)\n",
      "Requirement already satisfied: Pillow>=7.1.2 in c:\\users\\msoum\\anaconda3\\envs\\object-detection\\lib\\site-packages (from -r requirements.txt (line 4)) (9.0.1)\n",
      "Collecting PyYAML>=5.3.1\n",
      "  Using cached PyYAML-6.0-cp39-cp39-win_amd64.whl (151 kB)\n",
      "Requirement already satisfied: requests>=2.23.0 in c:\\users\\msoum\\anaconda3\\envs\\object-detection\\lib\\site-packages (from -r requirements.txt (line 6)) (2.27.1)\n",
      "Collecting scipy>=1.4.1\n",
      "  Using cached scipy-1.8.1-cp39-cp39-win_amd64.whl (36.9 MB)\n",
      "Requirement already satisfied: torch>=1.7.0 in c:\\users\\msoum\\anaconda3\\envs\\object-detection\\lib\\site-packages (from -r requirements.txt (line 8)) (1.11.0)\n",
      "Requirement already satisfied: torchvision>=0.8.1 in c:\\users\\msoum\\anaconda3\\envs\\object-detection\\lib\\site-packages (from -r requirements.txt (line 9)) (0.12.0)\n",
      "Collecting tqdm>=4.41.0\n",
      "  Using cached tqdm-4.64.0-py2.py3-none-any.whl (78 kB)\n",
      "Collecting pandas>=1.1.4\n",
      "  Using cached pandas-1.4.2-cp39-cp39-win_amd64.whl (10.5 MB)\n",
      "Collecting seaborn>=0.11.0\n",
      "  Using cached seaborn-0.11.2-py3-none-any.whl (292 kB)\n",
      "Collecting easydict\n",
      "  Using cached easydict-1.9-py3-none-any.whl\n",
      "Collecting Cython\n",
      "  Using cached Cython-0.29.30-py2.py3-none-any.whl (985 kB)\n",
      "Collecting h5py\n",
      "  Downloading h5py-3.7.0-cp39-cp39-win_amd64.whl (2.6 MB)\n",
      "Requirement already satisfied: six in c:\\users\\msoum\\anaconda3\\envs\\object-detection\\lib\\site-packages (from -r requirements.txt (line 16)) (1.16.0)\n",
      "Collecting tb-nightly\n",
      "  Downloading tb_nightly-2.10.0a20220615-py3-none-any.whl (5.8 MB)\n",
      "Collecting future\n",
      "  Using cached future-0.18.2-py3-none-any.whl\n",
      "Collecting yacs\n",
      "  Using cached yacs-0.1.8-py3-none-any.whl (14 kB)\n",
      "Collecting gdown\n",
      "  Using cached gdown-4.4.0-py3-none-any.whl\n",
      "Collecting flake8\n",
      "  Using cached flake8-4.0.1-py2.py3-none-any.whl (64 kB)\n",
      "Collecting yapf\n",
      "  Using cached yapf-0.32.0-py2.py3-none-any.whl (190 kB)\n",
      "Collecting isort==4.3.21\n",
      "  Using cached isort-4.3.21-py2.py3-none-any.whl (42 kB)\n",
      "Collecting imageio\n",
      "  Using cached imageio-2.19.3-py3-none-any.whl (3.4 MB)\n",
      "Collecting ipywidgets\n",
      "  Downloading ipywidgets-7.7.0-py2.py3-none-any.whl (123 kB)\n",
      "Collecting kiwisolver>=1.0.1\n",
      "  Downloading kiwisolver-1.4.3-cp39-cp39-win_amd64.whl (55 kB)\n",
      "Collecting cycler>=0.10\n",
      "  Using cached cycler-0.11.0-py3-none-any.whl (6.4 kB)\n",
      "Requirement already satisfied: python-dateutil>=2.7 in c:\\users\\msoum\\anaconda3\\envs\\object-detection\\lib\\site-packages (from matplotlib>=3.2.2->-r requirements.txt (line 1)) (2.8.2)\n",
      "Collecting packaging>=20.0\n",
      "  Using cached packaging-21.3-py3-none-any.whl (40 kB)\n",
      "Collecting pyparsing>=2.2.1\n",
      "  Using cached pyparsing-3.0.9-py3-none-any.whl (98 kB)\n",
      "Collecting fonttools>=4.22.0\n",
      "  Using cached fonttools-4.33.3-py3-none-any.whl (930 kB)\n",
      "Requirement already satisfied: idna<4,>=2.5 in c:\\users\\msoum\\anaconda3\\envs\\object-detection\\lib\\site-packages (from requests>=2.23.0->-r requirements.txt (line 6)) (3.3)\n",
      "Requirement already satisfied: certifi>=2017.4.17 in c:\\users\\msoum\\anaconda3\\envs\\object-detection\\lib\\site-packages (from requests>=2.23.0->-r requirements.txt (line 6)) (2022.5.18.1)\n",
      "Requirement already satisfied: urllib3<1.27,>=1.21.1 in c:\\users\\msoum\\anaconda3\\envs\\object-detection\\lib\\site-packages (from requests>=2.23.0->-r requirements.txt (line 6)) (1.26.9)\n",
      "Requirement already satisfied: charset-normalizer~=2.0.0 in c:\\users\\msoum\\anaconda3\\envs\\object-detection\\lib\\site-packages (from requests>=2.23.0->-r requirements.txt (line 6)) (2.0.4)\n",
      "Requirement already satisfied: typing_extensions in c:\\users\\msoum\\anaconda3\\envs\\object-detection\\lib\\site-packages (from torch>=1.7.0->-r requirements.txt (line 8)) (4.1.1)\n",
      "Requirement already satisfied: colorama in c:\\users\\msoum\\anaconda3\\envs\\object-detection\\lib\\site-packages (from tqdm>=4.41.0->-r requirements.txt (line 10)) (0.4.4)\n",
      "Collecting pytz>=2020.1\n",
      "  Using cached pytz-2022.1-py2.py3-none-any.whl (503 kB)\n",
      "Collecting protobuf<3.20,>=3.9.2\n",
      "  Using cached protobuf-3.19.4-cp39-cp39-win_amd64.whl (895 kB)\n",
      "Collecting google-auth<3,>=1.6.3\n",
      "  Downloading google_auth-2.8.0-py2.py3-none-any.whl (164 kB)\n",
      "Collecting werkzeug>=1.0.1\n",
      "  Using cached Werkzeug-2.1.2-py3-none-any.whl (224 kB)\n",
      "Collecting markdown>=2.6.8\n",
      "  Using cached Markdown-3.3.7-py3-none-any.whl (97 kB)\n",
      "Collecting grpcio>=1.24.3\n",
      "  Using cached grpcio-1.46.3-cp39-cp39-win_amd64.whl (3.5 MB)\n",
      "Requirement already satisfied: wheel>=0.26 in c:\\users\\msoum\\anaconda3\\envs\\object-detection\\lib\\site-packages (from tb-nightly->-r requirements.txt (line 17)) (0.37.1)\n",
      "Requirement already satisfied: setuptools>=41.0.0 in c:\\users\\msoum\\anaconda3\\envs\\object-detection\\lib\\site-packages (from tb-nightly->-r requirements.txt (line 17)) (61.2.0)\n",
      "Collecting google-auth-oauthlib<0.5,>=0.4.1\n",
      "  Using cached google_auth_oauthlib-0.4.6-py2.py3-none-any.whl (18 kB)\n",
      "Collecting absl-py>=0.4\n",
      "  Using cached absl_py-1.1.0-py3-none-any.whl (123 kB)\n",
      "Collecting tensorboard-data-server<0.7.0,>=0.6.0\n",
      "  Using cached tensorboard_data_server-0.6.1-py3-none-any.whl (2.4 kB)\n",
      "Collecting tensorboard-plugin-wit>=1.6.0\n",
      "  Using cached tensorboard_plugin_wit-1.8.1-py3-none-any.whl (781 kB)\n",
      "Collecting beautifulsoup4\n",
      "  Using cached beautifulsoup4-4.11.1-py3-none-any.whl (128 kB)\n",
      "Collecting filelock\n",
      "  Using cached filelock-3.7.1-py3-none-any.whl (10 kB)\n",
      "Collecting pycodestyle<2.9.0,>=2.8.0\n",
      "  Using cached pycodestyle-2.8.0-py2.py3-none-any.whl (42 kB)\n",
      "Collecting pyflakes<2.5.0,>=2.4.0\n",
      "  Using cached pyflakes-2.4.0-py2.py3-none-any.whl (69 kB)\n",
      "Collecting mccabe<0.7.0,>=0.6.0\n",
      "  Using cached mccabe-0.6.1-py2.py3-none-any.whl (8.6 kB)\n",
      "Requirement already satisfied: ipython>=4.0.0 in c:\\users\\msoum\\anaconda3\\envs\\object-detection\\lib\\site-packages (from ipywidgets->-r requirements.txt (line 25)) (8.3.0)\n",
      "Collecting jupyterlab-widgets>=1.0.0\n",
      "  Downloading jupyterlab_widgets-1.1.0-py3-none-any.whl (245 kB)\n",
      "Collecting ipython-genutils~=0.2.0\n",
      "  Using cached ipython_genutils-0.2.0-py2.py3-none-any.whl (26 kB)\n",
      "Requirement already satisfied: traitlets>=4.3.1 in c:\\users\\msoum\\anaconda3\\envs\\object-detection\\lib\\site-packages (from ipywidgets->-r requirements.txt (line 25)) (5.1.1)\n",
      "Collecting widgetsnbextension~=3.6.0\n",
      "  Downloading widgetsnbextension-3.6.0-py2.py3-none-any.whl (1.6 MB)\n",
      "Collecting nbformat>=4.2.0\n",
      "  Downloading nbformat-5.4.0-py3-none-any.whl (73 kB)\n",
      "Requirement already satisfied: ipykernel>=4.5.1 in c:\\users\\msoum\\anaconda3\\envs\\object-detection\\lib\\site-packages (from ipywidgets->-r requirements.txt (line 25)) (6.9.1)\n",
      "Collecting cachetools<6.0,>=2.0.0\n",
      "  Using cached cachetools-5.2.0-py3-none-any.whl (9.3 kB)\n",
      "Collecting pyasn1-modules>=0.2.1\n",
      "  Using cached pyasn1_modules-0.2.8-py2.py3-none-any.whl (155 kB)\n",
      "Collecting rsa<5,>=3.1.4\n",
      "  Using cached rsa-4.8-py3-none-any.whl (39 kB)\n",
      "Collecting requests-oauthlib>=0.7.0\n",
      "  Using cached requests_oauthlib-1.3.1-py2.py3-none-any.whl (23 kB)\n",
      "Requirement already satisfied: jupyter-client<8.0 in c:\\users\\msoum\\anaconda3\\envs\\object-detection\\lib\\site-packages (from ipykernel>=4.5.1->ipywidgets->-r requirements.txt (line 25)) (7.2.2)\n",
      "Requirement already satisfied: tornado<7.0,>=4.2 in c:\\users\\msoum\\anaconda3\\envs\\object-detection\\lib\\site-packages (from ipykernel>=4.5.1->ipywidgets->-r requirements.txt (line 25)) (6.1)\n",
      "Requirement already satisfied: debugpy<2.0,>=1.0.0 in c:\\users\\msoum\\anaconda3\\envs\\object-detection\\lib\\site-packages (from ipykernel>=4.5.1->ipywidgets->-r requirements.txt (line 25)) (1.5.1)\n",
      "Requirement already satisfied: nest-asyncio in c:\\users\\msoum\\anaconda3\\envs\\object-detection\\lib\\site-packages (from ipykernel>=4.5.1->ipywidgets->-r requirements.txt (line 25)) (1.5.5)\n",
      "Requirement already satisfied: matplotlib-inline<0.2.0,>=0.1.0 in c:\\users\\msoum\\anaconda3\\envs\\object-detection\\lib\\site-packages (from ipykernel>=4.5.1->ipywidgets->-r requirements.txt (line 25)) (0.1.2)\n",
      "Requirement already satisfied: decorator in c:\\users\\msoum\\anaconda3\\envs\\object-detection\\lib\\site-packages (from ipython>=4.0.0->ipywidgets->-r requirements.txt (line 25)) (5.1.1)\n",
      "Requirement already satisfied: pygments>=2.4.0 in c:\\users\\msoum\\anaconda3\\envs\\object-detection\\lib\\site-packages (from ipython>=4.0.0->ipywidgets->-r requirements.txt (line 25)) (2.11.2)\n",
      "Requirement already satisfied: stack-data in c:\\users\\msoum\\anaconda3\\envs\\object-detection\\lib\\site-packages (from ipython>=4.0.0->ipywidgets->-r requirements.txt (line 25)) (0.2.0)\n",
      "Requirement already satisfied: jedi>=0.16 in c:\\users\\msoum\\anaconda3\\envs\\object-detection\\lib\\site-packages (from ipython>=4.0.0->ipywidgets->-r requirements.txt (line 25)) (0.18.1)\n",
      "Requirement already satisfied: pickleshare in c:\\users\\msoum\\anaconda3\\envs\\object-detection\\lib\\site-packages (from ipython>=4.0.0->ipywidgets->-r requirements.txt (line 25)) (0.7.5)\n",
      "Requirement already satisfied: prompt-toolkit!=3.0.0,!=3.0.1,<3.1.0,>=2.0.0 in c:\\users\\msoum\\anaconda3\\envs\\object-detection\\lib\\site-packages (from ipython>=4.0.0->ipywidgets->-r requirements.txt (line 25)) (3.0.20)\n",
      "Requirement already satisfied: backcall in c:\\users\\msoum\\anaconda3\\envs\\object-detection\\lib\\site-packages (from ipython>=4.0.0->ipywidgets->-r requirements.txt (line 25)) (0.2.0)\n",
      "Requirement already satisfied: parso<0.9.0,>=0.8.0 in c:\\users\\msoum\\anaconda3\\envs\\object-detection\\lib\\site-packages (from jedi>=0.16->ipython>=4.0.0->ipywidgets->-r requirements.txt (line 25)) (0.8.3)\n",
      "Requirement already satisfied: pyzmq>=22.3 in c:\\users\\msoum\\anaconda3\\envs\\object-detection\\lib\\site-packages (from jupyter-client<8.0->ipykernel>=4.5.1->ipywidgets->-r requirements.txt (line 25)) (22.3.0)\n",
      "Requirement already satisfied: entrypoints in c:\\users\\msoum\\anaconda3\\envs\\object-detection\\lib\\site-packages (from jupyter-client<8.0->ipykernel>=4.5.1->ipywidgets->-r requirements.txt (line 25)) (0.4)\n",
      "Requirement already satisfied: jupyter-core>=4.9.2 in c:\\users\\msoum\\anaconda3\\envs\\object-detection\\lib\\site-packages (from jupyter-client<8.0->ipykernel>=4.5.1->ipywidgets->-r requirements.txt (line 25)) (4.10.0)\n",
      "Requirement already satisfied: pywin32>=1.0 in c:\\users\\msoum\\anaconda3\\envs\\object-detection\\lib\\site-packages (from jupyter-core>=4.9.2->jupyter-client<8.0->ipykernel>=4.5.1->ipywidgets->-r requirements.txt (line 25)) (302)\n",
      "Collecting importlib-metadata>=4.4\n",
      "  Using cached importlib_metadata-4.11.4-py3-none-any.whl (18 kB)\n",
      "Collecting zipp>=0.5\n",
      "  Using cached zipp-3.8.0-py3-none-any.whl (5.4 kB)\n",
      "Collecting fastjsonschema\n",
      "  Using cached fastjsonschema-2.15.3-py3-none-any.whl (22 kB)\n",
      "Collecting jsonschema>=2.6\n",
      "  Downloading jsonschema-4.6.0-py3-none-any.whl (80 kB)\n",
      "Collecting attrs>=17.4.0\n",
      "  Using cached attrs-21.4.0-py2.py3-none-any.whl (60 kB)\n",
      "Collecting pyrsistent!=0.17.0,!=0.17.1,!=0.17.2,>=0.14.0\n",
      "  Downloading pyrsistent-0.18.1-cp39-cp39-win_amd64.whl (61 kB)\n",
      "Requirement already satisfied: wcwidth in c:\\users\\msoum\\anaconda3\\envs\\object-detection\\lib\\site-packages (from prompt-toolkit!=3.0.0,!=3.0.1,<3.1.0,>=2.0.0->ipython>=4.0.0->ipywidgets->-r requirements.txt (line 25)) (0.2.5)\n",
      "Collecting pyasn1<0.5.0,>=0.4.6\n",
      "  Using cached pyasn1-0.4.8-py2.py3-none-any.whl (77 kB)\n",
      "Collecting oauthlib>=3.0.0\n",
      "  Using cached oauthlib-3.2.0-py3-none-any.whl (151 kB)\n",
      "Collecting notebook>=4.4.1\n",
      "  Downloading notebook-6.4.12-py3-none-any.whl (9.9 MB)\n",
      "Collecting prometheus-client\n",
      "  Using cached prometheus_client-0.14.1-py3-none-any.whl (59 kB)\n",
      "Collecting terminado>=0.8.3\n",
      "  Downloading terminado-0.15.0-py3-none-any.whl (16 kB)\n",
      "Collecting nbconvert>=5\n",
      "  Using cached nbconvert-6.5.0-py3-none-any.whl (561 kB)\n",
      "Collecting Send2Trash>=1.8.0\n",
      "  Using cached Send2Trash-1.8.0-py3-none-any.whl (18 kB)\n",
      "Collecting jinja2\n",
      "  Downloading Jinja2-3.1.2-py3-none-any.whl (133 kB)\n",
      "Collecting argon2-cffi\n",
      "  Using cached argon2_cffi-21.3.0-py3-none-any.whl (14 kB)\n",
      "Collecting bleach\n",
      "  Using cached bleach-5.0.0-py3-none-any.whl (160 kB)\n",
      "Collecting nbclient>=0.5.0\n",
      "  Downloading nbclient-0.6.4-py3-none-any.whl (71 kB)\n",
      "Collecting defusedxml\n",
      "  Using cached defusedxml-0.7.1-py2.py3-none-any.whl (25 kB)\n",
      "Collecting pandocfilters>=1.4.1\n",
      "  Using cached pandocfilters-1.5.0-py2.py3-none-any.whl (8.7 kB)\n",
      "Collecting mistune<2,>=0.8.1\n",
      "  Using cached mistune-0.8.4-py2.py3-none-any.whl (16 kB)\n",
      "Collecting jupyterlab-pygments\n",
      "  Using cached jupyterlab_pygments-0.2.2-py2.py3-none-any.whl (21 kB)\n",
      "Collecting tinycss2\n",
      "  Using cached tinycss2-1.1.1-py3-none-any.whl (21 kB)\n",
      "Collecting MarkupSafe>=2.0\n",
      "  Downloading MarkupSafe-2.1.1-cp39-cp39-win_amd64.whl (17 kB)\n",
      "Collecting traitlets>=4.3.1\n",
      "  Downloading traitlets-5.3.0-py3-none-any.whl (106 kB)\n",
      "Collecting pywinpty>=1.1.0\n",
      "  Downloading pywinpty-2.0.5-cp39-none-win_amd64.whl (1.4 MB)\n",
      "Collecting argon2-cffi-bindings\n",
      "  Using cached argon2_cffi_bindings-21.2.0-cp36-abi3-win_amd64.whl (30 kB)\n",
      "Requirement already satisfied: cffi>=1.0.1 in c:\\users\\msoum\\anaconda3\\envs\\object-detection\\lib\\site-packages (from argon2-cffi-bindings->argon2-cffi->notebook>=4.4.1->widgetsnbextension~=3.6.0->ipywidgets->-r requirements.txt (line 25)) (1.15.0)\n",
      "Requirement already satisfied: pycparser in c:\\users\\msoum\\anaconda3\\envs\\object-detection\\lib\\site-packages (from cffi>=1.0.1->argon2-cffi-bindings->argon2-cffi->notebook>=4.4.1->widgetsnbextension~=3.6.0->ipywidgets->-r requirements.txt (line 25)) (2.21)\n",
      "Collecting soupsieve>1.2\n",
      "  Using cached soupsieve-2.3.2.post1-py3-none-any.whl (37 kB)Note: you may need to restart the kernel to use updated packages.\n",
      "\n",
      "Collecting webencodings\n",
      "  Using cached webencodings-0.5.1-py2.py3-none-any.whl (11 kB)\n",
      "Requirement already satisfied: PySocks!=1.5.7,>=1.5.6 in c:\\users\\msoum\\anaconda3\\envs\\object-detection\\lib\\site-packages (from requests>=2.23.0->-r requirements.txt (line 6)) (1.7.1)\n",
      "Requirement already satisfied: pure-eval in c:\\users\\msoum\\anaconda3\\envs\\object-detection\\lib\\site-packages (from stack-data->ipython>=4.0.0->ipywidgets->-r requirements.txt (line 25)) (0.2.2)\n",
      "Requirement already satisfied: executing in c:\\users\\msoum\\anaconda3\\envs\\object-detection\\lib\\site-packages (from stack-data->ipython>=4.0.0->ipywidgets->-r requirements.txt (line 25)) (0.8.3)\n",
      "Requirement already satisfied: asttokens in c:\\users\\msoum\\anaconda3\\envs\\object-detection\\lib\\site-packages (from stack-data->ipython>=4.0.0->ipywidgets->-r requirements.txt (line 25)) (2.0.5)\n",
      "Installing collected packages: traitlets, pyrsistent, attrs, jsonschema, fastjsonschema, webencodings, soupsieve, pyparsing, nbformat, MarkupSafe, tinycss2, pywinpty, pyasn1, pandocfilters, packaging, nbclient, mistune, jupyterlab-pygments, jinja2, defusedxml, bleach, beautifulsoup4, argon2-cffi-bindings, zipp, terminado, Send2Trash, rsa, pyasn1-modules, prometheus-client, oauthlib, nbconvert, ipython-genutils, cachetools, argon2-cffi, requests-oauthlib, pytz, notebook, kiwisolver, importlib-metadata, google-auth, fonttools, cycler, widgetsnbextension, werkzeug, tqdm, tensorboard-plugin-wit, tensorboard-data-server, scipy, PyYAML, pyflakes, pycodestyle, protobuf, pandas, mccabe, matplotlib, markdown, jupyterlab-widgets, grpcio, google-auth-oauthlib, filelock, absl-py, yapf, yacs, tb-nightly, seaborn, opencv-python, isort, ipywidgets, imageio, h5py, gdown, future, flake8, easydict, Cython\n",
      "  Attempting uninstall: traitlets\n",
      "    Found existing installation: traitlets 5.1.1\n",
      "    Uninstalling traitlets-5.1.1:\n",
      "      Successfully uninstalled traitlets-5.1.1\n",
      "Successfully installed Cython-0.29.30 MarkupSafe-2.1.1 PyYAML-6.0 Send2Trash-1.8.0 absl-py-1.1.0 argon2-cffi-21.3.0 argon2-cffi-bindings-21.2.0 attrs-21.4.0 beautifulsoup4-4.11.1 bleach-5.0.0 cachetools-5.2.0 cycler-0.11.0 defusedxml-0.7.1 easydict-1.9 fastjsonschema-2.15.3 filelock-3.7.1 flake8-4.0.1 fonttools-4.33.3 future-0.18.2 gdown-4.4.0 google-auth-2.8.0 google-auth-oauthlib-0.4.6 grpcio-1.46.3 h5py-3.7.0 imageio-2.19.3 importlib-metadata-4.11.4 ipython-genutils-0.2.0 ipywidgets-7.7.0 isort-4.3.21 jinja2-3.1.2 jsonschema-4.6.0 jupyterlab-pygments-0.2.2 jupyterlab-widgets-1.1.0 kiwisolver-1.4.3 markdown-3.3.7 matplotlib-3.5.2 mccabe-0.6.1 mistune-0.8.4 nbclient-0.6.4 nbconvert-6.5.0 nbformat-5.4.0 notebook-6.4.12 oauthlib-3.2.0 opencv-python-4.6.0.66 packaging-21.3 pandas-1.4.2 pandocfilters-1.5.0 prometheus-client-0.14.1 protobuf-3.19.4 pyasn1-0.4.8 pyasn1-modules-0.2.8 pycodestyle-2.8.0 pyflakes-2.4.0 pyparsing-3.0.9 pyrsistent-0.18.1 pytz-2022.1 pywinpty-2.0.5 requests-oauthlib-1.3.1 rsa-4.8 scipy-1.8.1 seaborn-0.11.2 soupsieve-2.3.2.post1 tb-nightly-2.10.0a20220615 tensorboard-data-server-0.6.1 tensorboard-plugin-wit-1.8.1 terminado-0.15.0 tinycss2-1.1.1 tqdm-4.64.0 traitlets-5.3.0 webencodings-0.5.1 werkzeug-2.1.2 widgetsnbextension-3.6.0 yacs-0.1.8 yapf-0.32.0 zipp-3.8.0\n"
     ]
    }
   ],
   "source": [
    "# Install requirements\n",
    "%pip install -r requirements.txt"
   ]
  },
  {
   "cell_type": "code",
   "execution_count": 2,
   "metadata": {},
   "outputs": [],
   "source": [
    "import torch"
   ]
  },
  {
   "cell_type": "code",
   "execution_count": 3,
   "metadata": {},
   "outputs": [
    {
     "data": {
      "text/plain": [
       "True"
      ]
     },
     "execution_count": 3,
     "metadata": {},
     "output_type": "execute_result"
    }
   ],
   "source": [
    "torch.cuda.is_available()"
   ]
  },
  {
   "cell_type": "code",
   "execution_count": 4,
   "metadata": {},
   "outputs": [
    {
     "data": {
      "text/plain": [
       "1"
      ]
     },
     "execution_count": 4,
     "metadata": {},
     "output_type": "execute_result"
    }
   ],
   "source": [
    "torch.cuda.device_count()"
   ]
  },
  {
   "cell_type": "code",
   "execution_count": 5,
   "metadata": {},
   "outputs": [
    {
     "data": {
      "text/plain": [
       "0"
      ]
     },
     "execution_count": 5,
     "metadata": {},
     "output_type": "execute_result"
    }
   ],
   "source": [
    "torch.cuda.current_device()"
   ]
  },
  {
   "cell_type": "code",
   "execution_count": 6,
   "metadata": {},
   "outputs": [
    {
     "data": {
      "text/plain": [
       "'NVIDIA GeForce GTX 1650'"
      ]
     },
     "execution_count": 6,
     "metadata": {},
     "output_type": "execute_result"
    }
   ],
   "source": [
    "torch.cuda.get_device_name(0)"
   ]
  },
  {
   "cell_type": "markdown",
   "metadata": {},
   "source": [
    "### Download MOT-17 Challenge Dataset"
   ]
  },
  {
   "cell_type": "markdown",
   "metadata": {},
   "source": [
    "Download dataset from `https://motchallenge.net/data/MOT20.zip` and put it in this folder."
   ]
  },
  {
   "cell_type": "markdown",
   "metadata": {},
   "source": [
    "### Unzip"
   ]
  },
  {
   "cell_type": "code",
   "execution_count": 8,
   "metadata": {},
   "outputs": [],
   "source": [
    "FILE_NAME = 'MOT20.zip'\n",
    "DATA_PATH = \"datasets/\""
   ]
  },
  {
   "cell_type": "code",
   "execution_count": 9,
   "metadata": {},
   "outputs": [],
   "source": [
    "import zipfile\n",
    "with zipfile.ZipFile(FILE_NAME, \"r\") as zip_ref:\n",
    "    zip_ref.extractall(DATA_PATH)"
   ]
  },
  {
   "cell_type": "markdown",
   "metadata": {},
   "source": [
    "### Clone YOLOv5 Repository"
   ]
  },
  {
   "cell_type": "code",
   "execution_count": 10,
   "metadata": {},
   "outputs": [
    {
     "name": "stderr",
     "output_type": "stream",
     "text": [
      "Cloning into 'yolov5'...\n"
     ]
    }
   ],
   "source": [
    "!git clone https://github.com/ultralytics/yolov5.git"
   ]
  },
  {
   "cell_type": "markdown",
   "metadata": {},
   "source": [
    "### Install wandb"
   ]
  },
  {
   "cell_type": "code",
   "execution_count": 11,
   "metadata": {},
   "outputs": [
    {
     "name": "stdout",
     "output_type": "stream",
     "text": [
      "Collecting wandb\n",
      "  Downloading wandb-0.12.18-py2.py3-none-any.whl (1.8 MB)\n",
      "Collecting GitPython>=1.0.0\n",
      "  Using cached GitPython-3.1.27-py3-none-any.whl (181 kB)\n",
      "Collecting promise<3,>=2.0\n",
      "  Using cached promise-2.3-py3-none-any.whl\n",
      "Collecting sentry-sdk>=1.0.0\n",
      "  Downloading sentry_sdk-1.5.12-py2.py3-none-any.whl (145 kB)\n",
      "Requirement already satisfied: requests<3,>=2.0.0 in c:\\users\\msoum\\anaconda3\\envs\\object-detection\\lib\\site-packages (from wandb) (2.27.1)\n",
      "Collecting setproctitle\n",
      "  Using cached setproctitle-1.2.3-cp39-cp39-win_amd64.whl (10 kB)\n",
      "Collecting Click!=8.0.0,>=7.0\n",
      "  Downloading click-8.1.3-py3-none-any.whl (96 kB)\n",
      "Collecting docker-pycreds>=0.4.0\n",
      "  Using cached docker_pycreds-0.4.0-py2.py3-none-any.whl (9.0 kB)\n",
      "Requirement already satisfied: six>=1.13.0 in c:\\users\\msoum\\anaconda3\\envs\\object-detection\\lib\\site-packages (from wandb) (1.16.0)\n",
      "Collecting psutil>=5.0.0\n",
      "  Downloading psutil-5.9.1-cp39-cp39-win_amd64.whl (245 kB)\n",
      "Requirement already satisfied: protobuf<4.0dev,>=3.12.0 in c:\\users\\msoum\\anaconda3\\envs\\object-detection\\lib\\site-packages (from wandb) (3.19.4)\n",
      "Requirement already satisfied: PyYAML in c:\\users\\msoum\\anaconda3\\envs\\object-detection\\lib\\site-packages (from wandb) (6.0)\n",
      "Collecting pathtools\n",
      "  Using cached pathtools-0.1.2-py3-none-any.whl\n",
      "Requirement already satisfied: setuptools in c:\\users\\msoum\\anaconda3\\envs\\object-detection\\lib\\site-packages (from wandb) (61.2.0)\n",
      "Collecting shortuuid>=0.5.0\n",
      "  Downloading shortuuid-1.0.9-py3-none-any.whl (9.4 kB)\n",
      "Requirement already satisfied: colorama in c:\\users\\msoum\\anaconda3\\envs\\object-detection\\lib\\site-packages (from Click!=8.0.0,>=7.0->wandb) (0.4.4)\n",
      "Collecting gitdb<5,>=4.0.1\n",
      "  Using cached gitdb-4.0.9-py3-none-any.whl (63 kB)\n",
      "Collecting smmap<6,>=3.0.1\n",
      "  Using cached smmap-5.0.0-py3-none-any.whl (24 kB)\n",
      "Requirement already satisfied: urllib3<1.27,>=1.21.1 in c:\\users\\msoum\\anaconda3\\envs\\object-detection\\lib\\site-packages (from requests<3,>=2.0.0->wandb) (1.26.9)\n",
      "Requirement already satisfied: certifi>=2017.4.17 in c:\\users\\msoum\\anaconda3\\envs\\object-detection\\lib\\site-packages (from requests<3,>=2.0.0->wandb) (2022.5.18.1)\n",
      "Requirement already satisfied: idna<4,>=2.5 in c:\\users\\msoum\\anaconda3\\envs\\object-detection\\lib\\site-packages (from requests<3,>=2.0.0->wandb) (3.3)\n",
      "Requirement already satisfied: charset-normalizer~=2.0.0 in c:\\users\\msoum\\anaconda3\\envs\\object-detection\\lib\\site-packages (from requests<3,>=2.0.0->wandb) (2.0.4)\n",
      "Installing collected packages: smmap, gitdb, shortuuid, setproctitle, sentry-sdk, psutil, promise, pathtools, GitPython, docker-pycreds, Click, wandb\n",
      "Successfully installed Click-8.1.3 GitPython-3.1.27 docker-pycreds-0.4.0 gitdb-4.0.9 pathtools-0.1.2 promise-2.3 psutil-5.9.1 sentry-sdk-1.5.12 setproctitle-1.2.3 shortuuid-1.0.9 smmap-5.0.0 wandb-0.12.18\n",
      "Note: you may need to restart the kernel to use updated packages.\n"
     ]
    }
   ],
   "source": [
    "%pip install wandb"
   ]
  },
  {
   "cell_type": "markdown",
   "metadata": {},
   "source": [
    "### YOLOv5 test"
   ]
  },
  {
   "cell_type": "code",
   "execution_count": 12,
   "metadata": {},
   "outputs": [
    {
     "name": "stderr",
     "output_type": "stream",
     "text": [
      "\u001b[34m\u001b[1mdetect: \u001b[0mweights=['weights/yolov5m.pt'], source=documents/test.jpg, data=yolov5\\data\\coco128.yaml, imgsz=[1280, 1280], conf_thres=0.25, iou_thres=0.45, max_det=1000, device=, view_img=False, save_txt=False, save_conf=False, save_crop=False, nosave=False, classes=None, agnostic_nms=False, augment=False, visualize=False, update=False, project=yolov5\\runs\\detect, name=exp, exist_ok=False, line_thickness=3, hide_labels=False, hide_conf=False, half=False, dnn=False\n",
      "YOLOv5  v6.1-253-g75bbaa8 Python-3.9.12 torch-1.11.0 CUDA:0 (NVIDIA GeForce GTX 1650, 4096MiB)\n",
      "\n",
      "Fusing layers... \n",
      "YOLOv5m summary: 290 layers, 21172173 parameters, 0 gradients\n",
      "image 1/1 C:\\Users\\msoum\\Documents\\GitHub\\object-tracking\\documents\\test.jpg: 736x1280 6 persons, 13 cars, 1 bus, 1 handbag, Done. (0.078s)\n",
      "Speed: 4.8ms pre-process, 77.6ms inference, 85.0ms NMS per image at shape (1, 3, 1280, 1280)\n",
      "Results saved to \u001b[1myolov5\\runs\\detect\\exp\u001b[0m\n"
     ]
    }
   ],
   "source": [
    "!python yolov5/detect.py --weights weights/yolov5m.pt --img 1280 --conf 0.25 --source documents/test.jpg"
   ]
  }
 ],
 "metadata": {
  "kernelspec": {
   "display_name": "Python 3.9.12 ('object-detection')",
   "language": "python",
   "name": "python3"
  },
  "language_info": {
   "codemirror_mode": {
    "name": "ipython",
    "version": 3
   },
   "file_extension": ".py",
   "mimetype": "text/x-python",
   "name": "python",
   "nbconvert_exporter": "python",
   "pygments_lexer": "ipython3",
   "version": "3.9.12"
  },
  "orig_nbformat": 4,
  "vscode": {
   "interpreter": {
    "hash": "f05fa5f3d147c45ff393dc58dfdd6ed249791f1cb50020ac01b74bfaf02c64ad"
   }
  }
 },
 "nbformat": 4,
 "nbformat_minor": 2
}
